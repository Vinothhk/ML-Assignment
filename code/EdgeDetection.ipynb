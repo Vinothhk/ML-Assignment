{
 "cells": [
  {
   "cell_type": "code",
   "execution_count": 34,
   "metadata": {},
   "outputs": [],
   "source": [
    "import cv2\n",
    "import numpy as np\n",
    "import torch\n",
    "import torchvision\n",
    "from torchvision import datasets, transforms\n",
    "from sklearn.svm import SVC\n",
    "from sklearn.neighbors import KNeighborsClassifier\n",
    "from sklearn.metrics import accuracy_score,classification_report\n",
    "import matplotlib.pyplot as plt"
   ]
  },
  {
   "cell_type": "code",
   "execution_count": 35,
   "metadata": {},
   "outputs": [],
   "source": [
    "transform = transforms.Compose([transforms.ToTensor()])\n",
    "mnist = torchvision.datasets.MNIST(root='./../datasets', train=True, download=True, transform=transform)\n",
    "dataloader = torch.utils.data.DataLoader(mnist, batch_size=1000, shuffle=True)\n",
    "\n",
    "images, labels = next(iter(dataloader))\n"
   ]
  },
  {
   "cell_type": "code",
   "execution_count": 36,
   "metadata": {},
   "outputs": [
    {
     "name": "stdout",
     "output_type": "stream",
     "text": [
      "Model Accuracy: 1.0000\n",
      "\n",
      "Classification Report:\n",
      "\n",
      "              precision    recall  f1-score   support\n",
      "\n",
      "           0       1.00      1.00      1.00       103\n",
      "           1       1.00      1.00      1.00       117\n",
      "           2       1.00      1.00      1.00        95\n",
      "           3       1.00      1.00      1.00       106\n",
      "           4       1.00      1.00      1.00       102\n",
      "           5       1.00      1.00      1.00       111\n",
      "           6       1.00      1.00      1.00        86\n",
      "           7       1.00      1.00      1.00       104\n",
      "           8       1.00      1.00      1.00        82\n",
      "           9       1.00      1.00      1.00        94\n",
      "\n",
      "    accuracy                           1.00      1000\n",
      "   macro avg       1.00      1.00      1.00      1000\n",
      "weighted avg       1.00      1.00      1.00      1000\n",
      "\n"
     ]
    },
    {
     "data": {
      "image/png": "[encoded data removed]",
      "text/plain": [
       "<Figure size 1000x400 with 3 Axes>"
      ]
     },
     "metadata": {},
     "output_type": "display_data"
    }
   ],
   "source": [
    "images = images.squeeze().numpy()  # Convert to numpy array\n",
    "\n",
    "# Apply Canny and Sobel edge detection\n",
    "edge_features = []\n",
    "for img in images:\n",
    "    # Convert to uint8 (Canny requires uint8 format)\n",
    "    img_uint8 = (img * 255).astype(np.uint8)\n",
    "    \n",
    "    # Apply Canny edge detection\n",
    "    # canny_edges = cv2.Canny(img_uint8, 50, 150)\n",
    "    \n",
    "    # # Apply Sobel edge detection (gradient magnitude)\n",
    "    # sobelx = cv2.Sobel(img_uint8, cv2.CV_64F, 1, 0, ksize=3)\n",
    "    # sobely = cv2.Sobel(img_uint8, cv2.CV_64F, 0, 1, ksize=3)\n",
    "    # sobel_edges = np.sqrt(sobelx**2 + sobely**2)\n",
    "        # **Step 1: Apply Gaussian Blur to reduce noise**\n",
    "    img_blur = cv2.GaussianBlur(img_uint8, (3, 3), 0)\n",
    "    \n",
    "    # **Step 2: Apply Canny Edge Detection**\n",
    "    canny_edges = cv2.Canny(img_blur, 50, 150)\n",
    "    \n",
    "    # **Step 3: Apply Sobel Edge Detection**\n",
    "    sobelx = cv2.Sobel(img_blur, cv2.CV_64F, 1, 0, ksize=3)\n",
    "    sobely = cv2.Sobel(img_blur, cv2.CV_64F, 0, 1, ksize=3)\n",
    "    sobel_edges = np.sqrt(sobelx**2 + sobely**2)  # Gradient Magnitude\n",
    "    \n",
    "    # Flatten features\n",
    "    edge_features.append(sobel_edges.flatten())\n",
    "\n",
    "edge_features = np.array(edge_features)\n",
    "\n",
    "# Train SVM classifier\n",
    "clf = SVC(kernel='linear')\n",
    "clf.fit(edge_features, labels.numpy())\n",
    "\n",
    "# Evaluate accuracy\n",
    "preds = clf.predict(edge_features)\n",
    "accuracy = accuracy_score(labels.numpy(), preds)\n",
    "print(f\"Model Accuracy: {accuracy:.4f}\")\n",
    "# Print precision, recall, F1-score\n",
    "print(\"\\nClassification Report:\\n\")\n",
    "print(classification_report(labels.numpy(), preds))\n",
    "\n",
    "# Show sample images with Canny and Sobel applied\n",
    "plt.figure(figsize=(10, 4))\n",
    "plt.subplot(1, 3, 1)\n",
    "plt.imshow(images[0], cmap='gray')\n",
    "plt.title(\"Original\")\n",
    "\n",
    "plt.subplot(1, 3, 2)\n",
    "plt.imshow(canny_edges, cmap='gray')\n",
    "plt.title(\"Canny Edges\")\n",
    "\n",
    "plt.subplot(1, 3, 3)\n",
    "plt.imshow(sobel_edges, cmap='gray')\n",
    "plt.title(\"Sobel Edges\")\n",
    "\n",
    "plt.show()"
   ]
  },
  {
   "cell_type": "code",
   "execution_count": 37,
   "metadata": {},
   "outputs": [
    {
     "name": "stdout",
     "output_type": "stream",
     "text": [
      "Model Accuracy: 0.9110\n",
      "\n",
      "Classification Report:\n",
      "\n",
      "              precision    recall  f1-score   support\n",
      "\n",
      "           0       0.90      0.99      0.94       103\n",
      "           1       0.94      0.98      0.96       117\n",
      "           2       0.95      0.93      0.94        95\n",
      "           3       0.94      0.87      0.90       106\n",
      "           4       0.88      0.86      0.87       102\n",
      "           5       0.93      0.86      0.89       111\n",
      "           6       0.91      0.99      0.95        86\n",
      "           7       0.92      0.94      0.93       104\n",
      "           8       0.90      0.79      0.84        82\n",
      "           9       0.82      0.88      0.85        94\n",
      "\n",
      "    accuracy                           0.91      1000\n",
      "   macro avg       0.91      0.91      0.91      1000\n",
      "weighted avg       0.91      0.91      0.91      1000\n",
      "\n"
     ]
    }
   ],
   "source": [
    "# Train KNN classifier\n",
    "knn = KNeighborsClassifier(n_neighbors=5)  # K=5\n",
    "knn.fit(edge_features, labels.numpy())\n",
    "\n",
    "# Make predictions\n",
    "preds = knn.predict(edge_features)\n",
    "\n",
    "# Compute metrics\n",
    "accuracy = accuracy_score(labels.numpy(), preds)\n",
    "print(f\"Model Accuracy: {accuracy:.4f}\")\n",
    "\n",
    "# Print precision, recall, F1-score\n",
    "print(\"\\nClassification Report:\\n\")\n",
    "print(classification_report(labels.numpy(), preds))"
   ]
  }
 ],
 "metadata": {
  "kernelspec": {
   "display_name": "Python 3",
   "language": "python",
   "name": "python3"
  },
  "language_info": {
   "codemirror_mode": {
    "name": "ipython",
    "version": 3
   },
   "file_extension": ".py",
   "mimetype": "text/x-python",
   "name": "python",
   "nbconvert_exporter": "python",
   "pygments_lexer": "ipython3",
   "version": "3.10.12"
  }
 },
 "nbformat": 4,
 "nbformat_minor": 2
}
