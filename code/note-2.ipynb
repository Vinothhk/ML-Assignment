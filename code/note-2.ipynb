{
 "cells": [
  {
   "cell_type": "code",
   "execution_count": 9,
   "metadata": {},
   "outputs": [],
   "source": [
    "from sklearn.datasets import fetch_lfw_people\n",
    "from sklearn.model_selection import train_test_split\n",
    "import numpy as np\n",
    "import tensorflow as tf\n",
    "from sklearn.linear_model import LogisticRegression\n",
    "from sklearn.ensemble import RandomForestClassifier\n",
    "from sklearn.neighbors import KNeighborsClassifier\n",
    "from sklearn.metrics import accuracy_score\n",
    "from sklearn.metrics import precision_score, recall_score, f1_score"
   ]
  },
  {
   "cell_type": "code",
   "execution_count": 2,
   "metadata": {},
   "outputs": [
    {
     "name": "stdout",
     "output_type": "stream",
     "text": [
      "Total dataset size:\n",
      "Number of samples: 1288\n",
      "Number of features: 1850\n",
      "Number of classes: 7\n"
     ]
    },
    {
     "name": "stderr",
     "output_type": "stream",
     "text": [
      "2025-03-20 22:03:32.862197: I tensorflow/compiler/xla/stream_executor/cuda/cuda_gpu_executor.cc:981] successful NUMA node read from SysFS had negative value (-1), but there must be at least one NUMA node, so returning NUMA node zero\n",
      "2025-03-20 22:03:32.886601: W tensorflow/compiler/xla/stream_executor/platform/default/dso_loader.cc:64] Could not load dynamic library 'libcudnn.so.8'; dlerror: libcudnn.so.8: cannot open shared object file: No such file or directory; LD_LIBRARY_PATH: /home/vinoth/.local/lib/python3.10/site-packages/cv2/../../lib64:/home/vinoth/ros2_ws/install/my_cpp_library/lib:/home/vinoth/ros2_ws/install/diffdrive_arduino/lib:/home/vinoth/ros2_ws/install/custom_costmap_layer/lib:/opt/ros/humble/opt/zenoh_cpp_vendor/lib:/usr/lib/x86_64-linux-gnu/gazebo-11/plugins:/opt/ros/humble/opt/rviz_ogre_vendor/lib:/opt/ros/humble/lib/x86_64-linux-gnu:/opt/ros/humble/lib:/home/vinoth/.mujoco/mujoco210/bin:/usr/lib/nvidia\n",
      "2025-03-20 22:03:32.886626: W tensorflow/core/common_runtime/gpu/gpu_device.cc:1934] Cannot dlopen some GPU libraries. Please make sure the missing libraries mentioned above are installed properly if you would like to use GPU. Follow the guide at https://www.tensorflow.org/install/gpu for how to download and setup the required libraries for your platform.\n",
      "Skipping registering GPU devices...\n"
     ]
    }
   ],
   "source": [
    "\n",
    "# Load LFW dataset\n",
    "lfw_people = fetch_lfw_people(min_faces_per_person=70, resize=0.4)\n",
    "\n",
    "# Extract data and labels\n",
    "X = lfw_people.images\n",
    "y = lfw_people.target\n",
    "\n",
    "# Get the names of the people (classes)\n",
    "target_names = lfw_people.target_names\n",
    "n_classes = target_names.shape[0]\n",
    "\n",
    "# Print dataset information\n",
    "print(\"Total dataset size:\")\n",
    "print(f\"Number of samples: {X.shape[0]}\")\n",
    "print(f\"Number of features: {X.shape[1] * X.shape[2]}\")\n",
    "print(f\"Number of classes: {n_classes}\")\n",
    "\n",
    "# Split the dataset into training and testing sets\n",
    "X_train, X_test, y_train, y_test = train_test_split(X, y, test_size=0.25, random_state=42)\n",
    "\n",
    "# Normalize pixel values to be between 0 and 1\n",
    "X_train = X_train / 255.0\n",
    "X_test = X_test / 255.0\n",
    "\n",
    "# Reshape images to match VGG16 input shape (224x224x3)\n",
    "X_train = np.stack([np.stack([X_train[i]] * 3, axis=-1) for i in range(X_train.shape[0])], axis=0)\n",
    "X_test = np.stack([np.stack([X_test[i]] * 3, axis=-1) for i in range(X_test.shape[0])], axis=0)\n",
    "\n",
    "# Resize images to 224x224 (required for VGG16)\n",
    "X_train = tf.image.resize(X_train, (224, 224))\n",
    "X_test = tf.image.resize(X_test, (224, 224))"
   ]
  },
  {
   "cell_type": "code",
   "execution_count": 4,
   "metadata": {},
   "outputs": [
    {
     "name": "stdout",
     "output_type": "stream",
     "text": [
      "Downloading data from https://storage.googleapis.com/tensorflow/keras-applications/vgg16/vgg16_weights_tf_dim_ordering_tf_kernels_notop.h5\n",
      "\u001b[1m58889256/58889256\u001b[0m \u001b[32m━━━━━━━━━━━━━━━━━━━━\u001b[0m\u001b[37m\u001b[0m \u001b[1m70s\u001b[0m 1us/step\n",
      "\u001b[1m31/31\u001b[0m \u001b[32m━━━━━━━━━━━━━━━━━━━━\u001b[0m\u001b[37m\u001b[0m \u001b[1m63s\u001b[0m 2s/step\n",
      "\u001b[1m11/11\u001b[0m \u001b[32m━━━━━━━━━━━━━━━━━━━━\u001b[0m\u001b[37m\u001b[0m \u001b[1m22s\u001b[0m 2s/step\n"
     ]
    }
   ],
   "source": [
    "from keras.applications import VGG16\n",
    "from keras.applications.vgg16 import preprocess_input\n",
    "\n",
    "# Load VGG16 model pre-trained on ImageNet\n",
    "base_model = VGG16(weights='imagenet', include_top=False, input_shape=(224, 224, 3))\n",
    "\n",
    "# Freeze the base model\n",
    "base_model.trainable = False\n",
    "\n",
    "# Preprocess the images for VGG16\n",
    "X_train_vgg = preprocess_input(X_train)\n",
    "X_test_vgg = preprocess_input(X_test)\n",
    "\n",
    "# Extract features\n",
    "train_features = base_model.predict(X_train_vgg)\n",
    "test_features = base_model.predict(X_test_vgg)\n",
    "\n",
    "# Flatten the features\n",
    "train_features_flat = train_features.reshape(train_features.shape[0], -1)\n",
    "test_features_flat = test_features.reshape(test_features.shape[0], -1)"
   ]
  },
  {
   "cell_type": "code",
   "execution_count": 8,
   "metadata": {},
   "outputs": [],
   "source": [
    "# Train Logistic Regression\n",
    "clf_lr = LogisticRegression(max_iter=1000)\n",
    "clf_lr.fit(train_features_flat, y_train)\n",
    "\n",
    "# Train Random Forest\n",
    "clf_rf = RandomForestClassifier(n_estimators=100)\n",
    "clf_rf.fit(train_features_flat, y_train)\n",
    "\n",
    "# Train KNN\n",
    "clf_knn = KNeighborsClassifier(n_neighbors=5)\n",
    "clf_knn.fit(train_features_flat, y_train)\n",
    "\n",
    "# Predict and evaluate\n",
    "lr_predictions = clf_lr.predict(test_features_flat)\n",
    "rf_predictions = clf_rf.predict(test_features_flat)\n",
    "knn_predictions = clf_knn.predict(test_features_flat)"
   ]
  },
  {
   "cell_type": "code",
   "execution_count": 10,
   "metadata": {},
   "outputs": [
    {
     "name": "stdout",
     "output_type": "stream",
     "text": [
      "Performance Metrics for Logistic Regression:\n",
      "Accuracy: 0.4534\n",
      "Precision: 0.2056\n",
      "Recall: 0.4534\n",
      "F1-Score: 0.2829\n",
      "----------------------------------------\n",
      "Performance Metrics for Random Forest:\n",
      "Accuracy: 0.6304\n",
      "Precision: 0.7466\n",
      "Recall: 0.6304\n",
      "F1-Score: 0.5613\n",
      "----------------------------------------\n",
      "Performance Metrics for KNN:\n",
      "Accuracy: 0.5559\n",
      "Precision: 0.5539\n",
      "Recall: 0.5559\n",
      "F1-Score: 0.5403\n",
      "----------------------------------------\n"
     ]
    },
    {
     "name": "stderr",
     "output_type": "stream",
     "text": [
      "/home/vinoth/.local/lib/python3.10/site-packages/sklearn/metrics/_classification.py:1565: UndefinedMetricWarning: Precision is ill-defined and being set to 0.0 in labels with no predicted samples. Use `zero_division` parameter to control this behavior.\n",
      "  _warn_prf(average, modifier, f\"{metric.capitalize()} is\", len(result))\n"
     ]
    }
   ],
   "source": [
    "def evaluate_classifier(y_true, y_pred, model_name):\n",
    "    accuracy = accuracy_score(y_true, y_pred)\n",
    "    precision = precision_score(y_true, y_pred, average='weighted')\n",
    "    recall = recall_score(y_true, y_pred, average='weighted')\n",
    "    f1 = f1_score(y_true, y_pred, average='weighted')\n",
    "\n",
    "    print(f\"Performance Metrics for {model_name}:\")\n",
    "    print(f\"Accuracy: {accuracy:.4f}\")\n",
    "    print(f\"Precision: {precision:.4f}\")\n",
    "    print(f\"Recall: {recall:.4f}\")\n",
    "    print(f\"F1-Score: {f1:.4f}\")\n",
    "    print(\"-\" * 40)\n",
    "\n",
    "# Evaluate Logistic Regression\n",
    "evaluate_classifier(y_test, lr_predictions, \"Logistic Regression\")\n",
    "\n",
    "# Evaluate Random Forest\n",
    "evaluate_classifier(y_test, rf_predictions, \"Random Forest\")\n",
    "\n",
    "# Evaluate KNN\n",
    "evaluate_classifier(y_test, knn_predictions, \"KNN\")"
   ]
  },
  {
   "cell_type": "code",
   "execution_count": 11,
   "metadata": {},
   "outputs": [
    {
     "name": "stderr",
     "output_type": "stream",
     "text": [
      "/home/vinoth/.local/lib/python3.10/site-packages/sklearn/metrics/_classification.py:1565: UndefinedMetricWarning: Precision is ill-defined and being set to 0.0 in labels with no predicted samples. Use `zero_division` parameter to control this behavior.\n",
      "  _warn_prf(average, modifier, f\"{metric.capitalize()} is\", len(result))\n"
     ]
    },
    {
     "data": {
      "image/png": "[encoded data removed]",
      "text/plain": [
       "<Figure size 1000x600 with 1 Axes>"
      ]
     },
     "metadata": {},
     "output_type": "display_data"
    }
   ],
   "source": [
    "import pandas as pd\n",
    "import matplotlib.pyplot as plt\n",
    "\n",
    "# Create a DataFrame to store metrics\n",
    "metrics = {\n",
    "    \"Model\": [\"Logistic Regression\", \"Random Forest\", \"KNN\"],\n",
    "    \"Accuracy\": [accuracy_score(y_test, lr_predictions),\n",
    "                 accuracy_score(y_test, rf_predictions),\n",
    "                 accuracy_score(y_test, knn_predictions)],\n",
    "    \"Precision\": [precision_score(y_test, lr_predictions, average='weighted'),\n",
    "                  precision_score(y_test, rf_predictions, average='weighted'),\n",
    "                  precision_score(y_test, knn_predictions, average='weighted')],\n",
    "    \"Recall\": [recall_score(y_test, lr_predictions, average='weighted'),\n",
    "               recall_score(y_test, rf_predictions, average='weighted'),\n",
    "               recall_score(y_test, knn_predictions, average='weighted')],\n",
    "    \"F1-Score\": [f1_score(y_test, lr_predictions, average='weighted'),\n",
    "                 f1_score(y_test, rf_predictions, average='weighted'),\n",
    "                 f1_score(y_test, knn_predictions, average='weighted')]\n",
    "}\n",
    "\n",
    "df_metrics = pd.DataFrame(metrics)\n",
    "\n",
    "# Plot the metrics\n",
    "df_metrics.set_index(\"Model\").plot(kind=\"bar\", figsize=(10, 6), colormap=\"viridis\")\n",
    "plt.title(\"Model Performance Metrics on LFW Dataset\")\n",
    "plt.ylabel(\"Score\")\n",
    "plt.xticks(rotation=0)\n",
    "plt.ylim(0, 1)\n",
    "plt.show()"
   ]
  }
 ],
 "metadata": {
  "kernelspec": {
   "display_name": "Python 3",
   "language": "python",
   "name": "python3"
  },
  "language_info": {
   "codemirror_mode": {
    "name": "ipython",
    "version": 3
   },
   "file_extension": ".py",
   "mimetype": "text/x-python",
   "name": "python",
   "nbconvert_exporter": "python",
   "pygments_lexer": "ipython3",
   "version": "3.10.12"
  }
 },
 "nbformat": 4,
 "nbformat_minor": 2
}
