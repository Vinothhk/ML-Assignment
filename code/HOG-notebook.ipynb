{
 "cells": [
  {
   "cell_type": "code",
   "execution_count": 93,
   "metadata": {},
   "outputs": [],
   "source": [
    "import torch\n",
    "from torchvision import datasets,transforms\n",
    "from skimage.feature import local_binary_pattern,hog\n",
    "import matplotlib.pyplot as plt\n",
    "from skimage import color\n",
    "import numpy as np\n",
    "import random\n",
    "from sklearn.ensemble import RandomForestClassifier\n",
    "from sklearn.neighbors import KNeighborsClassifier\n",
    "from sklearn.metrics import accuracy_score, classification_report"
   ]
  },
  {
   "cell_type": "code",
   "execution_count": 94,
   "metadata": {},
   "outputs": [],
   "source": [
    "def extract_hog_features(dataloader):\n",
    "    hog_features_list = []\n",
    "    labels_list = []\n",
    "    \n",
    "    for images, labels in dataloader:\n",
    "        for i in range(images.shape[0]):\n",
    "            img = images[i] * 0.5 + 0.5  # Denormalize\n",
    "            img = img.permute(1, 2, 0).numpy()  # Convert to (H, W, C)\n",
    "            gray_img = color.rgb2gray(img)  # Convert to grayscale\n",
    "            \n",
    "            # Extract HOG features\n",
    "            hog_features = hog(gray_img, pixels_per_cell=(8, 8), cells_per_block=(2, 2), visualize=False)\n",
    "            \n",
    "            hog_features_list.append(hog_features)\n",
    "            labels_list.append(labels[i].item())\n",
    "    \n",
    "    return np.array(hog_features_list), np.array(labels_list)"
   ]
  },
  {
   "cell_type": "code",
   "execution_count": 95,
   "metadata": {},
   "outputs": [],
   "source": [
    "transform = transforms.Compose([transforms.ToTensor(), transforms.Normalize((0.5, 0.5, 0.5), (0.5, 0.5, 0.5))])\n",
    "\n",
    "trainset = datasets.CIFAR10(root='./../datasets', train=True, download=True, transform=transform)\n",
    "testset = datasets.CIFAR10(root='./../datasets', train=False, download=True, transform=transform)\n",
    "\n",
    "trainloader = torch.utils.data.DataLoader(trainset, batch_size=1300, shuffle=True)\n",
    "testloader = torch.utils.data.DataLoader(testset, batch_size=1300, shuffle=False)\n",
    "\n",
    "images, labels = next(iter(trainloader))"
   ]
  },
  {
   "cell_type": "code",
   "execution_count": 96,
   "metadata": {},
   "outputs": [],
   "source": [
    "# Extract HOG features for train and test sets\n",
    "X_train, y_train = extract_hog_features(trainloader)\n",
    "X_test, y_test = extract_hog_features(testloader)\n"
   ]
  },
  {
   "cell_type": "code",
   "execution_count": 97,
   "metadata": {},
   "outputs": [
    {
     "name": "stdout",
     "output_type": "stream",
     "text": [
      "KNN Accuracy: 0.4879\n",
      "KNN Classification Report:\n",
      "               precision    recall  f1-score   support\n",
      "\n",
      "           0       0.70      0.50      0.59      1000\n",
      "           1       0.65      0.69      0.67      1000\n",
      "           2       0.49      0.35      0.40      1000\n",
      "           3       0.37      0.16      0.22      1000\n",
      "           4       0.28      0.63      0.39      1000\n",
      "           5       0.51      0.29      0.37      1000\n",
      "           6       0.36      0.78      0.49      1000\n",
      "           7       0.76      0.42      0.54      1000\n",
      "           8       0.67      0.54      0.59      1000\n",
      "           9       0.72      0.51      0.60      1000\n",
      "\n",
      "    accuracy                           0.49     10000\n",
      "   macro avg       0.55      0.49      0.49     10000\n",
      "weighted avg       0.55      0.49      0.49     10000\n",
      "\n"
     ]
    }
   ],
   "source": [
    "knn = KNeighborsClassifier(n_neighbors=8, metric='euclidean')  # Try different values of k\n",
    "knn.fit(X_train, y_train)\n",
    "\n",
    "# Predict on test set\n",
    "y_pred = knn.predict(X_test)\n",
    "\n",
    "# Evaluate model\n",
    "accuracy = accuracy_score(y_test, y_pred)\n",
    "print(f\"KNN Accuracy: {accuracy:.4f}\")\n",
    "\n",
    "# Detailed classification report\n",
    "print(\"KNN Classification Report:\\n\", classification_report(y_test, y_pred))"
   ]
  },
  {
   "cell_type": "code",
   "execution_count": 98,
   "metadata": {},
   "outputs": [
    {
     "name": "stdout",
     "output_type": "stream",
     "text": [
      "Train Features Shape: (50000, 324)\n",
      "Test Features Shape: (10000, 324)\n",
      "Random Forests Accuracy: 0.5012\n",
      "Random Forests Classification Report:\n",
      "               precision    recall  f1-score   support\n",
      "\n",
      "           0       0.59      0.59      0.59      1000\n",
      "           1       0.56      0.67      0.61      1000\n",
      "           2       0.42      0.35      0.39      1000\n",
      "           3       0.36      0.26      0.30      1000\n",
      "           4       0.41      0.41      0.41      1000\n",
      "           5       0.39      0.44      0.42      1000\n",
      "           6       0.49      0.62      0.55      1000\n",
      "           7       0.59      0.51      0.55      1000\n",
      "           8       0.58      0.58      0.58      1000\n",
      "           9       0.58      0.56      0.57      1000\n",
      "\n",
      "    accuracy                           0.50     10000\n",
      "   macro avg       0.50      0.50      0.50     10000\n",
      "weighted avg       0.50      0.50      0.50     10000\n",
      "\n"
     ]
    }
   ],
   "source": [
    "print(\"Train Features Shape:\", X_train.shape)\n",
    "print(\"Test Features Shape:\", X_test.shape)\n",
    "\n",
    "# Train a classifier (Random Forest)\n",
    "clf = RandomForestClassifier(n_estimators=100, random_state=42)\n",
    "clf.fit(X_train, y_train)\n",
    "\n",
    "# Predict on test set\n",
    "y_pred = clf.predict(X_test)\n",
    "\n",
    "# Evaluate performance\n",
    "accuracy = accuracy_score(y_test, y_pred)\n",
    "print(f\"Random Forests Accuracy: {accuracy:.4f}\")\n",
    "\n",
    "# Detailed classification report\n",
    "print(\"Random Forests Classification Report:\\n\", classification_report(y_test, y_pred))"
   ]
  },
  {
   "cell_type": "code",
   "execution_count": 99,
   "metadata": {},
   "outputs": [
    {
     "name": "stderr",
     "output_type": "stream",
     "text": [
      "Clipping input data to the valid range for imshow with RGB data ([0..1] for floats or [0..255] for integers).\n"
     ]
    },
    {
     "name": "stdout",
     "output_type": "stream",
     "text": [
      "length: 1300\n"
     ]
    },
    {
     "data": {
      "image/png": "[encoded data removed]",
      "text/plain": [
       "<Figure size 640x480 with 1 Axes>"
      ]
     },
     "metadata": {},
     "output_type": "display_data"
    },
    {
     "name": "stderr",
     "output_type": "stream",
     "text": [
      "Clipping input data to the valid range for imshow with RGB data ([0..1] for floats or [0..255] for integers).\n"
     ]
    },
    {
     "data": {
      "image/png": "[encoded data removed]",
      "text/plain": [
       "<Figure size 1000x500 with 3 Axes>"
      ]
     },
     "metadata": {},
     "output_type": "display_data"
    }
   ],
   "source": [
    "i = random.randint(1,100)\n",
    "print(f'length: {len(images)}')\n",
    "image = images[i]\n",
    "label = labels[i]\n",
    "image = image.permute(1, 2, 0)\n",
    "\n",
    "# Plot the image\n",
    "plt.imshow(image)\n",
    "plt.title(trainset.classes[label])  # Get class label\n",
    "plt.axis(\"off\")\n",
    "plt.show()\n",
    "\n",
    "gray_image = color.rgb2gray(image)  # Convert to grayscale\n",
    "\n",
    "# gray_image = gray_image / 255.0  # Normalize to range [0,1]\n",
    "# plt.imshow(gray_image)\n",
    "# plt.title('gray image')\n",
    "# plt.show()\n",
    "\n",
    "# Apply HOG feature extraction\n",
    "hog_features, hog_image = hog(gray_image, \n",
    "                              pixels_per_cell=(8, 8), \n",
    "                              cells_per_block=(2, 2), \n",
    "                              visualize=True)\n",
    "\n",
    "# Plot original and HOG image\n",
    "fig, ax = plt.subplots(1, 3, figsize=(10, 5))\n",
    "ax[0].imshow(image)\n",
    "ax[0].set_title(f\"Original Image: {trainset.classes[label]}\")\n",
    "ax[0].axis(\"off\")\n",
    "\n",
    "ax[1].imshow(hog_image, cmap=\"gray\")\n",
    "ax[1].set_title(\"HOG Features\")\n",
    "ax[1].axis(\"off\")\n",
    "\n",
    "ax[2].imshow(gray_image,cmap=\"gray\")\n",
    "plt.show()"
   ]
  }
 ],
 "metadata": {
  "kernelspec": {
   "display_name": "Python 3",
   "language": "python",
   "name": "python3"
  },
  "language_info": {
   "codemirror_mode": {
    "name": "ipython",
    "version": 3
   },
   "file_extension": ".py",
   "mimetype": "text/x-python",
   "name": "python",
   "nbconvert_exporter": "python",
   "pygments_lexer": "ipython3",
   "version": "3.10.12"
  }
 },
 "nbformat": 4,
 "nbformat_minor": 2
}
